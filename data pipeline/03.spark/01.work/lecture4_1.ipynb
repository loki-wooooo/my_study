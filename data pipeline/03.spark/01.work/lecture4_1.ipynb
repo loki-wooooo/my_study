{
 "cells": [
  {
   "cell_type": "code",
   "execution_count": 2,
   "id": "ec5d3b38-c092-4c0a-84bc-220a65b5e5cd",
   "metadata": {},
   "outputs": [
    {
     "ename": "NameError",
     "evalue": "name 'rdd' is not defined",
     "output_type": "error",
     "traceback": [
      "\u001b[0;31m---------------------------------------------------------------------------\u001b[0m",
      "\u001b[0;31mNameError\u001b[0m                                 Traceback (most recent call last)",
      "Cell \u001b[0;32mIn[2], line 7\u001b[0m\n\u001b[1;32m      3\u001b[0m sc \u001b[38;5;241m=\u001b[39m pyspark\u001b[38;5;241m.\u001b[39mSparkContext\u001b[38;5;241m.\u001b[39mgetOrCreate();\n\u001b[1;32m      4\u001b[0m \u001b[38;5;66;03m# key / value RDD\u001b[39;00m\n\u001b[1;32m      5\u001b[0m \n\u001b[1;32m      6\u001b[0m \u001b[38;5;66;03m# creating key / value RDD\u001b[39;00m\n\u001b[0;32m----> 7\u001b[0m total_by_brand \u001b[38;5;241m=\u001b[39m \u001b[43mrdd\u001b[49m\u001b[38;5;241m.\u001b[39mmap(\u001b[38;5;28;01mlambda\u001b[39;00m brand: (brand, \u001b[38;5;241m1\u001b[39m))\n\u001b[1;32m      9\u001b[0m \u001b[38;5;28mprint\u001b[39m(total_by_brand)\n",
      "\u001b[0;31mNameError\u001b[0m: name 'rdd' is not defined"
     ]
    }
   ],
   "source": [
    "import pyspark\n",
    "\n",
    "'''\n",
    "    parallelize - 로컬 데이터 컬렉션을 분산 처리가 가능한 RDD(Resilient Distributed Dataset)로 변환하는 역할\n",
    "'''\n",
    "\n",
    "sc = pyspark.SparkContext.getOrCreate();\n",
    "# key / value RDD\n",
    "\n",
    "# creating key / value RDD\n",
    "total_by_brand = rdd.map(lambda brand: (brand, 1))\n",
    "\n",
    "from operator import add\n",
    "rdd = sc.parallelize([(\"a\", 1), (\"b\", 1), (\"a\", 1)])\n",
    "sorted(rdd.reduceBykey(add).collect())\n",
    "\n",
    "rdd = sc.parallelize([(\"a\", 1), (\"b\", 1), (\"a\", 1)])\n",
    "sorted(rdd.groupByKey().mapValues(len).collect())\n",
    "sorted(rdd.groupByKey().mapValues(list).collect())\n",
    "\n",
    "tmp = [('a', 1), ('b', 2), ('1', 3), ('d', 4), ('2', 5)]\n",
    "sc.parallelize(tmp).sortByKey().first()\n",
    "\n",
    "rdd = sc.parallelize([('a', 1), ('b', 1), ('a', 1)])\n",
    "rdd.keys()\n",
    "\n",
    "x = sc.parallelize([('a', 1), ('b', 4)])\n",
    "y = sc.parallelize([('a', 2), ('a', 3)])\n",
    "sorted(x.join(y).collect())\n",
    "\n",
    "\n"
   ]
  },
  {
   "cell_type": "code",
   "execution_count": null,
   "id": "878d468a-4b71-4b1f-8bce-433258dd143f",
   "metadata": {},
   "outputs": [],
   "source": []
  }
 ],
 "metadata": {
  "kernelspec": {
   "display_name": "Python 3 (ipykernel)",
   "language": "python",
   "name": "python3"
  },
  "language_info": {
   "codemirror_mode": {
    "name": "ipython",
    "version": 3
   },
   "file_extension": ".py",
   "mimetype": "text/x-python",
   "name": "python",
   "nbconvert_exporter": "python",
   "pygments_lexer": "ipython3",
   "version": "3.11.6"
  }
 },
 "nbformat": 4,
 "nbformat_minor": 5
}
