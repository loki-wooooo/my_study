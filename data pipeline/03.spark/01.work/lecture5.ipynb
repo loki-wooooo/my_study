{
 "cells": [
  {
   "cell_type": "code",
   "execution_count": 7,
   "id": "74bd7115-0696-46e6-8c4e-4a64c2ca8d46",
   "metadata": {},
   "outputs": [
    {
     "name": "stdout",
     "output_type": "stream",
     "text": [
      "Auckland: 49.856\n",
      "Canoas: 50.009\n",
      "Cape Town: 49.9946\n",
      "Hamilton: 44.564\n",
      "Kherson: 7.0952\n",
      "Kiev: 2.85619999999999\n",
      "Lvov: 7.1726\n",
      "Marseille: 39.3908\n",
      "Odesa: 14.8838\n",
      "Stockholm: 13.3988\n",
      "Wroclaw: 9.167\n",
      "NA: 12.4682\n",
      "Brasília: 62.9744\n",
      "Johannesburg: 42.1772\n",
      "Paris: 25.0232\n",
      "Tokyo: 29.156\n",
      "Tottori: 34.2518\n",
      "Uppsala: 6.0494\n",
      "Warsaw: 6.8\n",
      "------------------\n",
      "Auckland: 71.1284\n",
      "Canoas: 78.5822\n",
      "Cape Town: 71.7512\n",
      "Hamilton: 70.3562\n",
      "Kherson: 78.6758\n",
      "Kiev: 76.2674\n",
      "Lvov: 72.3344\n",
      "Marseille: 80.9132\n",
      "Odesa: 77.8748\n",
      "Stockholm: 68.9792\n",
      "Wroclaw: 71.4398\n",
      "NA: 82.067\n",
      "Brasília: 78.6794\n",
      "Johannesburg: 71.5766\n",
      "Paris: 73.8752\n",
      "Tokyo: 81.131\n",
      "Tottori: 84.6554\n",
      "Uppsala: 67.9424\n",
      "Warsaw: 73.112\n"
     ]
    }
   ],
   "source": [
    "import pyspark\n",
    "\n",
    "sc = pyspark.SparkContext.getOrCreate();\n",
    "test_file = \"file:///home/jovyan/work/sample/temperature.csv\"\n",
    "\n",
    "def get_data(line, header):\n",
    "    if line != header:\n",
    "        col = line.split(\",\")\n",
    "        city = col[6].strip(\"\\\"\");\n",
    "        avg_temp_fahr = col[4]\n",
    "        yield (city, avg_temp_fahr)\n",
    "\n",
    "lines = sc.textFile(test_file)\n",
    "\n",
    "header = lines.first()\n",
    "\n",
    "parsed_line = lines.flatMap(lambda line: get_data(line, header))\n",
    "\n",
    "filtered_line = parsed_line.filter(lambda x: \"NA\" not in x[1])\n",
    "\n",
    "min_temp = filtered_line.reduceByKey(lambda x, y: min(float(x), float(y)))\n",
    "final_list = min_temp.collect()\n",
    "for city, temperature in final_list:\n",
    "    print(f\"{city}: {temperature}\")\n",
    "\n",
    "print(\"------------------\")\n",
    "# finding max temperature\n",
    "min_temp = filtered_line.reduceByKey(lambda x, y: max(float(x), float(y)))\n",
    "final_list = min_temp.collect();\n",
    "for city, temperature in final_list:\n",
    "    print(f\"{city}: {temperature}\")"
   ]
  }
 ],
 "metadata": {
  "kernelspec": {
   "display_name": "Python 3 (ipykernel)",
   "language": "python",
   "name": "python3"
  },
  "language_info": {
   "codemirror_mode": {
    "name": "ipython",
    "version": 3
   },
   "file_extension": ".py",
   "mimetype": "text/x-python",
   "name": "python",
   "nbconvert_exporter": "python",
   "pygments_lexer": "ipython3",
   "version": "3.11.6"
  }
 },
 "nbformat": 4,
 "nbformat_minor": 5
}
