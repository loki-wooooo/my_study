{
 "cells": [
  {
   "cell_type": "code",
   "execution_count": 30,
   "id": "154ee0f3-7eeb-4bd5-bf17-64bbcdd3c7df",
   "metadata": {},
   "outputs": [
    {
     "name": "stdout",
     "output_type": "stream",
     "text": [
      "[('hello', 6), ('world', 6)]\n"
     ]
    }
   ],
   "source": [
    "import pyspark \n",
    "\n",
    "#test_file = \"file:///Utils/04.study/my_study/data pipeline/03.spark/01.work/sample/word.txt\"\n",
    "test_file = \"file:///home/jovyan/work/sample/word.txt\"\n",
    "sc = pyspark.SparkContext.getOrCreate();\n",
    "\n",
    "text_file = sc.textFile(test_file)\n",
    "counts = text_file.flatMap(lambda line: line.split(\" \"))\n",
    "# print(counts.collect())\n",
    "\n",
    "pair = counts.map(lambda word: (word, 1))\n",
    "# print(pair.collect())\n",
    "\n",
    "reduce = pair.reduceByKey(lambda a,b: a+b)\n",
    "print(reduce.collect())\n",
    "\n",
    "\n",
    "# counts = text_file.flatMap(lambda line: line.split(\" \")) \\\n",
    "#                            .map(lambda word: (word, 1)) \\\n",
    "#                            .reduceByKey(lambda a,b: a+b) # tuple을 읽어 셔플링 후 value를 더함 (1이 다 더해짐)\n",
    "# print(counts.collect())"
   ]
  },
  {
   "cell_type": "code",
   "execution_count": null,
   "id": "3824a1f5-a416-4ce6-9e11-5e25f7f19bff",
   "metadata": {},
   "outputs": [],
   "source": []
  }
 ],
 "metadata": {
  "kernelspec": {
   "display_name": "Python 3 (ipykernel)",
   "language": "python",
   "name": "python3"
  },
  "language_info": {
   "codemirror_mode": {
    "name": "ipython",
    "version": 3
   },
   "file_extension": ".py",
   "mimetype": "text/x-python",
   "name": "python",
   "nbconvert_exporter": "python",
   "pygments_lexer": "ipython3",
   "version": "3.11.6"
  },
  "vscode": {
   "interpreter": {
    "hash": "aee8b7b246df8f9039afb4144a1f6fd8d2ca17a180786b69acc140d282b71a49"
   }
  }
 },
 "nbformat": 4,
 "nbformat_minor": 5
}
